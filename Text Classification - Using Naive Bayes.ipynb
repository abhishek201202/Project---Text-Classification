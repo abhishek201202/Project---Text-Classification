{
 "cells": [
  {
   "cell_type": "markdown",
   "metadata": {},
   "source": [
    "# Text Classification Using Naive Bayes"
   ]
  },
  {
   "cell_type": "markdown",
   "metadata": {},
   "source": [
    "### 1) Importing Libraries"
   ]
  },
  {
   "cell_type": "code",
   "execution_count": 1,
   "metadata": {},
   "outputs": [],
   "source": [
    "import os\n",
    "import numpy as np\n",
    "import pandas as pd\n",
    "import nltk\n",
    "from sklearn import model_selection\n",
    "from sklearn.model_selection import train_test_split\n",
    "from nltk.tokenize import sent_tokenize , word_tokenize\n",
    "from nltk.corpus import stopwords\n",
    "import string\n",
    "from nltk.stem import PorterStemmer\n",
    "from nltk import pos_tag\n",
    "from nltk.stem import WordNetLemmatizer\n",
    "from nltk import NaiveBayesClassifier\n",
    "from nltk.corpus import wordnet\n",
    "import random\n",
    "import matplotlib.pyplot as plt\n",
    "from sklearn.naive_bayes import MultinomialNB\n",
    "from sklearn.metrics import classification_report,confusion_matrix,accuracy_score"
   ]
  },
  {
   "cell_type": "markdown",
   "metadata": {},
   "source": [
    "### 2) Put the Path of Dataset Present on your Computer"
   ]
  },
  {
   "cell_type": "code",
   "execution_count": 2,
   "metadata": {},
   "outputs": [],
   "source": [
    "Path = \"C:/Users/User/Project---Text-Classification/datasets\""
   ]
  },
  {
   "cell_type": "markdown",
   "metadata": {},
   "source": [
    "### 3) Loading Data from Dataset"
   ]
  },
  {
   "cell_type": "code",
   "execution_count": 3,
   "metadata": {},
   "outputs": [
    {
     "name": "stdout",
     "output_type": "stream",
     "text": [
      "20\n"
     ]
    },
    {
     "data": {
      "text/plain": [
       "['alt.atheism',\n",
       " 'comp.graphics',\n",
       " 'comp.os.ms-windows.misc',\n",
       " 'comp.sys.ibm.pc.hardware',\n",
       " 'comp.sys.mac.hardware',\n",
       " 'comp.windows.x',\n",
       " 'misc.forsale',\n",
       " 'rec.autos',\n",
       " 'rec.motorcycles',\n",
       " 'rec.sport.baseball',\n",
       " 'rec.sport.hockey',\n",
       " 'sci.crypt',\n",
       " 'sci.electronics',\n",
       " 'sci.med',\n",
       " 'sci.space',\n",
       " 'soc.religion.christian',\n",
       " 'talk.politics.guns',\n",
       " 'talk.politics.mideast',\n",
       " 'talk.politics.misc',\n",
       " 'talk.religion.misc']"
      ]
     },
     "execution_count": 3,
     "metadata": {},
     "output_type": "execute_result"
    }
   ],
   "source": [
    "print(len(os.listdir(Path)))\n",
    "os.listdir(Path)"
   ]
  },
  {
   "cell_type": "code",
   "execution_count": 4,
   "metadata": {},
   "outputs": [],
   "source": [
    "X = []\n",
    "Y = []\n",
    "for category in os.listdir(Path):\n",
    "    for document in os.listdir(Path + '/' + category):\n",
    "        with open(Path + '/' + category + '/' + document, \"r\") as file:\n",
    "#             X.append(document, file.read())) ## name && text of the document of certain folder\n",
    "            X.append(file.read())\n",
    "            Y.append(category)                  ## folder name in which that document present"
   ]
  },
  {
   "cell_type": "code",
   "execution_count": 5,
   "metadata": {},
   "outputs": [
    {
     "name": "stdout",
     "output_type": "stream",
     "text": [
      "alt.atheism\n",
      "Newsgroups: alt.atheism\n",
      "Path: cantaloupe.srv.cs.cmu.edu!crabapple.srv.cs.cmu.edu!fs7.ece.cmu.edu!europa.eng.gtefsd.com!howland.reston.ans.net!usc!sdd.hp.com!nigel.msen.com!yale.edu!ira.uka.de!news.dfn.de!tubsibr!dbstu1.rz.tu-bs.de!I3150101\n",
      "From: I3150101@dbstu1.rz.tu-bs.de (Benedikt Rosenau)\n",
      "Subject: Re: A visit from the Jehovah's Witnesses\n",
      "Message-ID: <16BA711EF4.I3150101@dbstu1.rz.tu-bs.de>\n",
      "Sender: postnntp@ibr.cs.tu-bs.de (Mr. Nntp Inews Entry)\n",
      "Organization: Technical University Braunschweig, Germany\n",
      "References: <bskendigC4KD1z.CDC@netcom.com> <1p8v1aINN9e9@matt.ksu.ksu.edu>  <16BA5DA01.I3150101@dbstu1.rz.tu-bs.de> <1993Apr5.091139.823@batman.bmd.trw.com>\n",
      "Date: Mon, 5 Apr 1993 19:24:19 GMT\n",
      "Lines: 114\n",
      "\n",
      "In article <1993Apr5.091139.823@batman.bmd.trw.com>\n",
      "jbrown@batman.bmd.trw.com writes:\n",
      " \n",
      ">> Didn't you say Lucifer was created with a perfect nature?\n",
      ">\n",
      ">Yes.\n",
      ">\n",
      " \n",
      "Define perfect then.\n",
      " \n",
      " \n",
      ">> I think you\n",
      ">> are playing the usual game here, make sweeping statements like omni-,\n",
      ">> holy, or perfect, and don't note that they mean exactly what they say.\n",
      ">> And that says that you must not use this terms when it leads to\n",
      ">> contradictions.\n",
      ">\n",
      ">I'm not trying to play games here.  But I understand how it might seem\n",
      ">that way especially when one is coming from a completely different point\n",
      ">of view such as atheism.\n",
      ">\n",
      " \n",
      "Take your foot out of your mouth, I wondered about that already when I\n",
      "was a Catholic Christian. The fact that the contradiction is unresolvable\n",
      "is one of the reasons why I am an atheist.\n",
      " \n",
      "Believe me, I believed similar sentences for a long time. But that shows\n",
      "the power of religion and not anything about its claims.\n",
      " \n",
      " \n",
      ">>>Now God could have prevented Lucifer's fall by taking away his ability\n",
      ">>>to choose between moral alternatives (worship God or worship himself),\n",
      ">>>but that would mean that God was in error to have make Lucifer or any\n",
      ">>>being with free will in the first place.\n",
      ">>\n",
      ">> Exactly. God allows evil, an evil if there ever was one.\n",
      ">>\n",
      ">\n",
      ">Now that's an opinion, or at best a premise.  But from my point of view,\n",
      ">it is not a premise which is necessary true, specifically, that it is\n",
      ">an evil to allow evil to occur.\n",
      ">\n",
      " \n",
      "It follows from a definition of evil as ordinarily used. Letting evil\n",
      "happen or allowing evil to take place, in this place even causing evil,\n",
      "is another evil.\n",
      " \n",
      " \n",
      ">> But could you give a definition of free will? Especially in the\n",
      ">> presence of an omniscient being?\n",
      ">>\n",
      ">\"Will\" is \"self-determination\".  In other words, God created conscious\n",
      ">beings who have the ability to choose between moral choices independently\n",
      ">of God.  All \"will\", therefore, is \"free will\".\n",
      ">\n",
      " \n",
      "The omniscient attribute of god will know what the creatures will do even\n",
      "before the omnipotent has created them. There is no choice left. All is known,\n",
      "the course of events is fixed.\n",
      " \n",
      "Not even for the omniscient itself, to extend an argument by James Tims.\n",
      " \n",
      " \n",
      ">>>If God is omniscient, then\n",
      ">>>clearly, creating beings with free moral choice is a greater good than\n",
      ">>>the emergence of ungodliness (evil/sin) since He created them knowing\n",
      ">>>the outcome in advance.\n",
      ">>\n",
      ">> Why is it the greater good to allow evil with the knowledge that it\n",
      ">> will happen? Why not make a unipolar system with the possibility of\n",
      ">> doing good or not doing good, but that does not necessarily imply\n",
      ">> doing evil. It is logically possible, but your god has not done it.\n",
      ">\n",
      ">I do not know that such is logically possible.  If God restrains a\n",
      ">free being's choice to choose to do evil and simply do \"not good\",\n",
      ">then can it be said that the being truly has a free moral choice?\n",
      ">And if \"good\" is defined as loving and obeying God, and avoiding\n",
      ">those behaviors which God prohibits, then how can you say that one\n",
      ">who is \"not good\" is not evil as well?  Like I said, I am not sure\n",
      ">that doing \"not good\" without doing evil is logically possible.\n",
      " \n",
      "And when I am not omnipotent, how can I have free will? You have said\n",
      "something about choices and the scenario gives them. Therefore we have\n",
      "what you define as free will.\n",
      " \n",
      "Imagine the following. I can do good to other beings, but I cannot harm them.\n",
      "Easily implemented by making everyone appreciate being the object of good\n",
      "deeds, but don't make them long for them, so they can not feel the absence\n",
      "of good as evil.\n",
      " \n",
      "But whose case am I arguing? It is conceivable, so the omnipotent can do it.\n",
      "Or it would not be omnipotent. If you want logically consistent as well, you\n",
      "have to give up the pet idea of an omnipotent first.\n",
      " \n",
      "(Deletion)\n",
      ">\n",
      ">Perhaps it is weak, in a way.  If I were just speculating about the\n",
      ">ubiquitous pink unicorns, then there would be no basis for such\n",
      ">speculation.  But this idea of God didn't just fall on me out of the\n",
      ">blue :), or while reading science fiction or fantasy.  (I know that\n",
      ">some will disagree)  :)  The Bible describes a God who is omniscient,\n",
      ">and nevertheless created beings with free moral choice, from which\n",
      ">the definitional logic follows.  But that's not all there is to it.\n",
      ">There seems to be (at least in my mind) a certain amount of evidence\n",
      ">which indicates that God exists and that the Biblical description\n",
      ">of Him may be a fair one.  It is that evidence which bolsters the\n",
      ">argument in my view.\n",
      " \n",
      "That the bible describes an omniscient and omnipotent god destroys\n",
      "the credibility of the bible, nothing less.\n",
      " \n",
      "And a lot of people would be interested in evidence for a god,\n",
      "unfortunately, there can't be any with these definitions.\n",
      "   Benedikt\n",
      "\n"
     ]
    }
   ],
   "source": [
    "print(Y[5])      ## Folder Name name in which this document is present \n",
    "# print(X[5][0]) ## document name\n",
    "# print(X[5][1]) ## Text Present in this document\n",
    "print(X[5])"
   ]
  },
  {
   "cell_type": "code",
   "execution_count": 6,
   "metadata": {},
   "outputs": [
    {
     "name": "stdout",
     "output_type": "stream",
     "text": [
      "19997\n"
     ]
    }
   ],
   "source": [
    "print(len(X))"
   ]
  },
  {
   "cell_type": "markdown",
   "metadata": {},
   "source": [
    "### 4) Tokenize Everything"
   ]
  },
  {
   "cell_type": "code",
   "execution_count": 7,
   "metadata": {},
   "outputs": [],
   "source": [
    "## Tokenize everything\n",
    "## Word tokenizer was Giving less accuracy\n",
    "from nltk.tokenize import RegexpTokenizer\n",
    "tokenizer = RegexpTokenizer('[a-z0-9]+')\n",
    "\n",
    "for i in range(len(X)):\n",
    "    X[i] = tokenizer.tokenize(X[i])"
   ]
  },
  {
   "cell_type": "code",
   "execution_count": 8,
   "metadata": {},
   "outputs": [
    {
     "name": "stdout",
     "output_type": "stream",
     "text": [
      "950\n",
      "['ewsgroups', 'alt', 'atheism', 'ath', 'cantaloupe', 'srv', 'cs', 'cmu', 'edu', 'crabapple', 'srv', 'cs', 'cmu', 'edu', 'fs7', 'ece', 'cmu', 'edu', 'europa', 'eng', 'gtefsd', 'com', 'howland', 'reston', 'ans', 'net', 'usc', 'sdd', 'hp', 'com', 'nigel', 'msen', 'com', 'yale', 'edu', 'ira', 'uka', 'de', 'news', 'dfn', 'de', 'tubsibr', 'dbstu1', 'rz', 'tu', 'bs', 'de', '3150101', 'rom', '3150101', 'dbstu1', 'rz', 'tu', 'bs', 'de', 'enedikt', 'osenau', 'ubject', 'e', 'visit', 'from', 'the', 'ehovah', 's', 'itnesses', 'essage', '16', '711', '4', '3150101', 'dbstu1', 'rz', 'tu', 'bs', 'de', 'ender', 'postnntp', 'ibr', 'cs', 'tu', 'bs', 'de', 'r', 'ntp', 'news', 'ntry', 'rganization', 'echnical', 'niversity', 'raunschweig', 'ermany', 'eferences', 'bskendig', '4', '1z', 'netcom', 'com', '1p8v1a', '9e9', 'matt', 'ksu', 'ksu', 'edu', '16', '5', '01', '3150101', 'dbstu1', 'rz', 'tu', 'bs', 'de', '1993', 'pr5', '091139', '823', 'batman', 'bmd', 'trw', 'com', 'ate', 'on', '5', 'pr', '1993', '19', '24', '19', 'ines', '114', 'n', 'article', '1993', 'pr5', '091139', '823', 'batman', 'bmd', 'trw', 'com', 'jbrown', 'batman', 'bmd', 'trw', 'com', 'writes', 'idn', 't', 'you', 'say', 'ucifer', 'was', 'created', 'with', 'a', 'perfect', 'nature', 'es', 'efine', 'perfect', 'then', 'think', 'you', 'are', 'playing', 'the', 'usual', 'game', 'here', 'make', 'sweeping', 'statements', 'like', 'omni', 'holy', 'or', 'perfect', 'and', 'don', 't', 'note', 'that', 'they', 'mean', 'exactly', 'what', 'they', 'say', 'nd', 'that', 'says', 'that', 'you', 'must', 'not', 'use', 'this', 'terms', 'when', 'it', 'leads', 'to', 'contradictions', 'm', 'not', 'trying', 'to', 'play', 'games', 'here', 'ut', 'understand', 'how', 'it', 'might', 'seem', 'that', 'way', 'especially', 'when', 'one', 'is', 'coming', 'from', 'a', 'completely', 'different', 'point', 'of', 'view', 'such', 'as', 'atheism', 'ake', 'your', 'foot', 'out', 'of', 'your', 'mouth', 'wondered', 'about', 'that', 'already', 'when', 'was', 'a', 'atholic', 'hristian', 'he', 'fact', 'that', 'the', 'contradiction', 'is', 'unresolvable', 'is', 'one', 'of', 'the', 'reasons', 'why', 'am', 'an', 'atheist', 'elieve', 'me', 'believed', 'similar', 'sentences', 'for', 'a', 'long', 'time', 'ut', 'that', 'shows', 'the', 'power', 'of', 'religion', 'and', 'not', 'anything', 'about', 'its', 'claims', 'ow', 'od', 'could', 'have', 'prevented', 'ucifer', 's', 'fall', 'by', 'taking', 'away', 'his', 'ability', 'to', 'choose', 'between', 'moral', 'alternatives', 'worship', 'od', 'or', 'worship', 'himself', 'but', 'that', 'would', 'mean', 'that', 'od', 'was', 'in', 'error', 'to', 'have', 'make', 'ucifer', 'or', 'any', 'being', 'with', 'free', 'will', 'in', 'the', 'first', 'place', 'xactly', 'od', 'allows', 'evil', 'an', 'evil', 'if', 'there', 'ever', 'was', 'one', 'ow', 'that', 's', 'an', 'opinion', 'or', 'at', 'best', 'a', 'premise', 'ut', 'from', 'my', 'point', 'of', 'view', 'it', 'is', 'not', 'a', 'premise', 'which', 'is', 'necessary', 'true', 'specifically', 'that', 'it', 'is', 'an', 'evil', 'to', 'allow', 'evil', 'to', 'occur', 't', 'follows', 'from', 'a', 'definition', 'of', 'evil', 'as', 'ordinarily', 'used', 'etting', 'evil', 'happen', 'or', 'allowing', 'evil', 'to', 'take', 'place', 'in', 'this', 'place', 'even', 'causing', 'evil', 'is', 'another', 'evil', 'ut', 'could', 'you', 'give', 'a', 'definition', 'of', 'free', 'will', 'specially', 'in', 'the', 'presence', 'of', 'an', 'omniscient', 'being', 'ill', 'is', 'self', 'determination', 'n', 'other', 'words', 'od', 'created', 'conscious', 'beings', 'who', 'have', 'the', 'ability', 'to', 'choose', 'between', 'moral', 'choices', 'independently', 'of', 'od', 'll', 'will', 'therefore', 'is', 'free', 'will', 'he', 'omniscient', 'attribute', 'of', 'god', 'will', 'know', 'what', 'the', 'creatures', 'will', 'do', 'even', 'before', 'the', 'omnipotent', 'has', 'created', 'them', 'here', 'is', 'no', 'choice', 'left', 'll', 'is', 'known', 'the', 'course', 'of', 'events', 'is', 'fixed', 'ot', 'even', 'for', 'the', 'omniscient', 'itself', 'to', 'extend', 'an', 'argument', 'by', 'ames', 'ims', 'f', 'od', 'is', 'omniscient', 'then', 'clearly', 'creating', 'beings', 'with', 'free', 'moral', 'choice', 'is', 'a', 'greater', 'good', 'than', 'the', 'emergence', 'of', 'ungodliness', 'evil', 'sin', 'since', 'e', 'created', 'them', 'knowing', 'the', 'outcome', 'in', 'advance', 'hy', 'is', 'it', 'the', 'greater', 'good', 'to', 'allow', 'evil', 'with', 'the', 'knowledge', 'that', 'it', 'will', 'happen', 'hy', 'not', 'make', 'a', 'unipolar', 'system', 'with', 'the', 'possibility', 'of', 'doing', 'good', 'or', 'not', 'doing', 'good', 'but', 'that', 'does', 'not', 'necessarily', 'imply', 'doing', 'evil', 't', 'is', 'logically', 'possible', 'but', 'your', 'god', 'has', 'not', 'done', 'it', 'do', 'not', 'know', 'that', 'such', 'is', 'logically', 'possible', 'f', 'od', 'restrains', 'a', 'free', 'being', 's', 'choice', 'to', 'choose', 'to', 'do', 'evil', 'and', 'simply', 'do', 'not', 'good', 'then', 'can', 'it', 'be', 'said', 'that', 'the', 'being', 'truly', 'has', 'a', 'free', 'moral', 'choice', 'nd', 'if', 'good', 'is', 'defined', 'as', 'loving', 'and', 'obeying', 'od', 'and', 'avoiding', 'those', 'behaviors', 'which', 'od', 'prohibits', 'then', 'how', 'can', 'you', 'say', 'that', 'one', 'who', 'is', 'not', 'good', 'is', 'not', 'evil', 'as', 'well', 'ike', 'said', 'am', 'not', 'sure', 'that', 'doing', 'not', 'good', 'without', 'doing', 'evil', 'is', 'logically', 'possible', 'nd', 'when', 'am', 'not', 'omnipotent', 'how', 'can', 'have', 'free', 'will', 'ou', 'have', 'said', 'something', 'about', 'choices', 'and', 'the', 'scenario', 'gives', 'them', 'herefore', 'we', 'have', 'what', 'you', 'define', 'as', 'free', 'will', 'magine', 'the', 'following', 'can', 'do', 'good', 'to', 'other', 'beings', 'but', 'cannot', 'harm', 'them', 'asily', 'implemented', 'by', 'making', 'everyone', 'appreciate', 'being', 'the', 'object', 'of', 'good', 'deeds', 'but', 'don', 't', 'make', 'them', 'long', 'for', 'them', 'so', 'they', 'can', 'not', 'feel', 'the', 'absence', 'of', 'good', 'as', 'evil', 'ut', 'whose', 'case', 'am', 'arguing', 't', 'is', 'conceivable', 'so', 'the', 'omnipotent', 'can', 'do', 'it', 'r', 'it', 'would', 'not', 'be', 'omnipotent', 'f', 'you', 'want', 'logically', 'consistent', 'as', 'well', 'you', 'have', 'to', 'give', 'up', 'the', 'pet', 'idea', 'of', 'an', 'omnipotent', 'first', 'eletion', 'erhaps', 'it', 'is', 'weak', 'in', 'a', 'way', 'f', 'were', 'just', 'speculating', 'about', 'the', 'ubiquitous', 'pink', 'unicorns', 'then', 'there', 'would', 'be', 'no', 'basis', 'for', 'such', 'speculation', 'ut', 'this', 'idea', 'of', 'od', 'didn', 't', 'just', 'fall', 'on', 'me', 'out', 'of', 'the', 'blue', 'or', 'while', 'reading', 'science', 'fiction', 'or', 'fantasy', 'know', 'that', 'some', 'will', 'disagree', 'he', 'ible', 'describes', 'a', 'od', 'who', 'is', 'omniscient', 'and', 'nevertheless', 'created', 'beings', 'with', 'free', 'moral', 'choice', 'from', 'which', 'the', 'definitional', 'logic', 'follows', 'ut', 'that', 's', 'not', 'all', 'there', 'is', 'to', 'it', 'here', 'seems', 'to', 'be', 'at', 'least', 'in', 'my', 'mind', 'a', 'certain', 'amount', 'of', 'evidence', 'which', 'indicates', 'that', 'od', 'exists', 'and', 'that', 'the', 'iblical', 'description', 'of', 'im', 'may', 'be', 'a', 'fair', 'one', 't', 'is', 'that', 'evidence', 'which', 'bolsters', 'the', 'argument', 'in', 'my', 'view', 'hat', 'the', 'bible', 'describes', 'an', 'omniscient', 'and', 'omnipotent', 'god', 'destroys', 'the', 'credibility', 'of', 'the', 'bible', 'nothing', 'less', 'nd', 'a', 'lot', 'of', 'people', 'would', 'be', 'interested', 'in', 'evidence', 'for', 'a', 'god', 'unfortunately', 'there', 'can', 't', 'be', 'any', 'with', 'these', 'definitions', 'enedikt']\n"
     ]
    }
   ],
   "source": [
    "print(len(X[5]))\n",
    "print(X[5])"
   ]
  },
  {
   "cell_type": "markdown",
   "metadata": {},
   "source": [
    "### 5) Remove Stop Words"
   ]
  },
  {
   "cell_type": "code",
   "execution_count": 9,
   "metadata": {},
   "outputs": [
    {
     "name": "stdout",
     "output_type": "stream",
     "text": [
      "['i', 'me', 'my', 'myself', 'we', 'our', 'ours', 'ourselves', 'you', \"you're\", \"you've\", \"you'll\", \"you'd\", 'your', 'yours', 'yourself', 'yourselves', 'he', 'him', 'his', 'himself', 'she', \"she's\", 'her', 'hers', 'herself', 'it', \"it's\", 'its', 'itself', 'they', 'them', 'their', 'theirs', 'themselves', 'what', 'which', 'who', 'whom', 'this', 'that', \"that'll\", 'these', 'those', 'am', 'is', 'are', 'was', 'were', 'be', 'been', 'being', 'have', 'has', 'had', 'having', 'do', 'does', 'did', 'doing', 'a', 'an', 'the', 'and', 'but', 'if', 'or', 'because', 'as', 'until', 'while', 'of', 'at', 'by', 'for', 'with', 'about', 'against', 'between', 'into', 'through', 'during', 'before', 'after', 'above', 'below', 'to', 'from', 'up', 'down', 'in', 'out', 'on', 'off', 'over', 'under', 'again', 'further', 'then', 'once', 'here', 'there', 'when', 'where', 'why', 'how', 'all', 'any', 'both', 'each', 'few', 'more', 'most', 'other', 'some', 'such', 'no', 'nor', 'not', 'only', 'own', 'same', 'so', 'than', 'too', 'very', 's', 't', 'can', 'will', 'just', 'don', \"don't\", 'should', \"should've\", 'now', 'd', 'll', 'm', 'o', 're', 've', 'y', 'ain', 'aren', \"aren't\", 'couldn', \"couldn't\", 'didn', \"didn't\", 'doesn', \"doesn't\", 'hadn', \"hadn't\", 'hasn', \"hasn't\", 'haven', \"haven't\", 'isn', \"isn't\", 'ma', 'mightn', \"mightn't\", 'mustn', \"mustn't\", 'needn', \"needn't\", 'shan', \"shan't\", 'shouldn', \"shouldn't\", 'wasn', \"wasn't\", 'weren', \"weren't\", 'won', \"won't\", 'wouldn', \"wouldn't\", '!', '\"', '#', '$', '%', '&', \"'\", '(', ')', '*', '+', ',', '-', '.', '/', ':', ';', '<', '=', '>', '?', '@', '[', '\\\\', ']', '^', '_', '`', '{', '|', '}', '~']\n"
     ]
    }
   ],
   "source": [
    "## add punctuations in stop list to get rid off, from them as well\n",
    "## all the stopwords are in lower case\n",
    "stop = stopwords.words(\"english\")\n",
    "punctuations = list(string.punctuation)\n",
    "stop += punctuations\n",
    "print(stop)\n",
    "\n",
    "\n",
    "## Remove stop words \n",
    "def remove_stop_words(X):\n",
    "    for i in range(len(X)):\n",
    "        output = []\n",
    "        for doc in X[i]:\n",
    "            if not (doc.lower().isalpha()) or len(doc) <= 2:\n",
    "                continue\n",
    "            if doc.lower() not in stop:\n",
    "                output.append(doc)\n",
    "        X[i] = output\n",
    "    return X\n"
   ]
  },
  {
   "cell_type": "code",
   "execution_count": 10,
   "metadata": {},
   "outputs": [],
   "source": [
    "X = remove_stop_words(X)"
   ]
  },
  {
   "cell_type": "markdown",
   "metadata": {},
   "source": [
    "### 6) Do Stemming"
   ]
  },
  {
   "cell_type": "code",
   "execution_count": 11,
   "metadata": {},
   "outputs": [],
   "source": [
    "## Lemmatizer was taking to much time ..... thats why we are doing stemming\n",
    "## Stemming\n",
    "# ps = PorterStemmer()\n",
    "## PorterStemmer was Giving less accuracy\n",
    "from nltk.stem.snowball import SnowballStemmer\n",
    "ps = SnowballStemmer(\"english\")\n",
    "for i in range(len(X)):\n",
    "    for j in range(len(X[i])):\n",
    "        X[i][j] = ps.stem(X[i][j])"
   ]
  },
  {
   "cell_type": "markdown",
   "metadata": {},
   "source": [
    "### 7) Split data into training and testing dataset"
   ]
  },
  {
   "cell_type": "code",
   "execution_count": 12,
   "metadata": {},
   "outputs": [],
   "source": [
    "x_train, x_test, y_train, y_test = model_selection.train_test_split(X, Y)"
   ]
  },
  {
   "cell_type": "code",
   "execution_count": 13,
   "metadata": {},
   "outputs": [
    {
     "data": {
      "text/plain": [
       "(14997, 14997, 5000, 5000)"
      ]
     },
     "execution_count": 13,
     "metadata": {},
     "output_type": "execute_result"
    }
   ],
   "source": [
    "len(x_train), len(y_train), len(x_test), len(y_test)"
   ]
  },
  {
   "cell_type": "markdown",
   "metadata": {},
   "source": [
    "### 8) Create Feature Set"
   ]
  },
  {
   "cell_type": "code",
   "execution_count": 14,
   "metadata": {},
   "outputs": [],
   "source": [
    "all_words = {}\n",
    "for document in x_train:\n",
    "    for word in document:\n",
    "        if word not in all_words:\n",
    "            all_words[word] = 1\n",
    "        else :\n",
    "            all_words[word] += 1"
   ]
  },
  {
   "cell_type": "code",
   "execution_count": 15,
   "metadata": {
    "scrolled": false
   },
   "outputs": [
    {
     "data": {
      "text/plain": [
       "182"
      ]
     },
     "execution_count": 15,
     "metadata": {},
     "output_type": "execute_result"
    }
   ],
   "source": [
    "type(all_words)\n",
    "len(all_words)\n",
    "all_words[\"gate\"] ## One of the word of the dic"
   ]
  },
  {
   "cell_type": "code",
   "execution_count": 16,
   "metadata": {},
   "outputs": [
    {
     "data": {
      "image/png": "[encoded data removed]",
      "text/plain": [
       "<Figure size 432x288 with 1 Axes>"
      ]
     },
     "metadata": {
      "needs_background": "light"
     },
     "output_type": "display_data"
    }
   ],
   "source": [
    "import operator\n",
    "all_words = sorted(all_words.items(), key = operator.itemgetter(1), reverse = True)\n",
    "x = []\n",
    "y = []\n",
    "for i in range(len(all_words)):\n",
    "    x.append(i)\n",
    "    y.append(all_words[i][1])\n",
    "plt.plot(x, y)\n",
    "plt.axis([0, 2000, 0, 6000])\n",
    "plt.show()"
   ]
  },
  {
   "cell_type": "code",
   "execution_count": 17,
   "metadata": {},
   "outputs": [
    {
     "data": {
      "text/plain": [
       "(2000, dict)"
      ]
     },
     "execution_count": 17,
     "metadata": {},
     "output_type": "execute_result"
    }
   ],
   "source": [
    "## Pick the First 2000 words\n",
    "features = {} ### (feature, index)\n",
    "for i in range(2000):\n",
    "    features[all_words[i][0]] = i\n",
    "len(features), type(features)"
   ]
  },
  {
   "cell_type": "markdown",
   "metadata": {},
   "source": [
    "### 9) Convert Training and Testing Data into the format which Naive Bayes takes"
   ]
  },
  {
   "cell_type": "code",
   "execution_count": 18,
   "metadata": {},
   "outputs": [],
   "source": [
    "def get_required_format(x, features):\n",
    "    N = len(x)\n",
    "    M = len(features)\n",
    "    output = np.array([[0 for j in range(M)] for i in range(N)])\n",
    "    \n",
    "    for i in range(N):\n",
    "        doc = x[i]\n",
    "        for word in doc:\n",
    "            if word in features:\n",
    "                output[i][features[word]] += 1\n",
    "    return output"
   ]
  },
  {
   "cell_type": "code",
   "execution_count": 19,
   "metadata": {},
   "outputs": [
    {
     "data": {
      "text/plain": [
       "(list, 14997)"
      ]
     },
     "execution_count": 19,
     "metadata": {},
     "output_type": "execute_result"
    }
   ],
   "source": [
    "type(x_train), len(x_train)"
   ]
  },
  {
   "cell_type": "code",
   "execution_count": 20,
   "metadata": {},
   "outputs": [
    {
     "data": {
      "text/plain": [
       "(array([[ 5,  4,  4, ...,  0,  0,  0],\n",
       "        [ 5,  1,  0, ...,  0,  0,  0],\n",
       "        [ 8,  4,  1, ...,  0,  0,  0],\n",
       "        ...,\n",
       "        [ 7,  4,  1, ...,  0,  0,  0],\n",
       "        [12,  5,  1, ...,  0,  0,  0],\n",
       "        [ 8,  4,  1, ...,  0,  0,  0]]),\n",
       " array([[ 5,  4,  9, ...,  0,  0,  0],\n",
       "        [ 4,  1,  1, ...,  0,  0,  0],\n",
       "        [ 7,  3,  1, ...,  0,  0,  0],\n",
       "        ...,\n",
       "        [ 6,  1,  0, ...,  0,  0,  0],\n",
       "        [14,  4,  5, ...,  0,  0,  0],\n",
       "        [11,  1,  0, ...,  0,  0,  0]]))"
      ]
     },
     "execution_count": 20,
     "metadata": {},
     "output_type": "execute_result"
    }
   ],
   "source": [
    "x_train = get_required_format(x_train, features)\n",
    "x_test = get_required_format(x_test, features)\n",
    "x_train, x_test"
   ]
  },
  {
   "cell_type": "code",
   "execution_count": 21,
   "metadata": {},
   "outputs": [],
   "source": [
    "y_train = np.array(y_train)\n",
    "y_test = np.array(y_test)"
   ]
  },
  {
   "cell_type": "code",
   "execution_count": 22,
   "metadata": {},
   "outputs": [
    {
     "data": {
      "text/plain": [
       "(numpy.ndarray, 14997)"
      ]
     },
     "execution_count": 22,
     "metadata": {},
     "output_type": "execute_result"
    }
   ],
   "source": [
    "type(x_train), len(x_train)"
   ]
  },
  {
   "cell_type": "code",
   "execution_count": 23,
   "metadata": {},
   "outputs": [
    {
     "data": {
      "text/plain": [
       "((14997, 2000), 14997)"
      ]
     },
     "execution_count": 23,
     "metadata": {},
     "output_type": "execute_result"
    }
   ],
   "source": [
    "x_train.shape, len(y_train)"
   ]
  },
  {
   "cell_type": "code",
   "execution_count": 24,
   "metadata": {},
   "outputs": [
    {
     "data": {
      "text/plain": [
       "array([7.78562379, 2.60372074, 2.27578849, ..., 0.01540308, 0.01540308,\n",
       "       0.0153364 ])"
      ]
     },
     "execution_count": 24,
     "metadata": {},
     "output_type": "execute_result"
    }
   ],
   "source": [
    "x_train.mean(axis = 0)"
   ]
  },
  {
   "cell_type": "markdown",
   "metadata": {},
   "source": [
    "### 10) Inbuilt Sklearn Naive Bayes"
   ]
  },
  {
   "cell_type": "code",
   "execution_count": 25,
   "metadata": {},
   "outputs": [
    {
     "data": {
      "text/plain": [
       "MultinomialNB(alpha=1.0, class_prior=None, fit_prior=True)"
      ]
     },
     "execution_count": 25,
     "metadata": {},
     "output_type": "execute_result"
    }
   ],
   "source": [
    "clf = MultinomialNB()\n",
    "clf.fit(x_train, y_train)"
   ]
  },
  {
   "cell_type": "code",
   "execution_count": 26,
   "metadata": {},
   "outputs": [
    {
     "name": "stdout",
     "output_type": "stream",
     "text": [
      "Score on Training Data!!!!!\n"
     ]
    },
    {
     "data": {
      "text/plain": [
       "0.8895779155831166"
      ]
     },
     "execution_count": 26,
     "metadata": {},
     "output_type": "execute_result"
    }
   ],
   "source": [
    "print(\"Score on Training Data!!!!!\")\n",
    "clf.score(x_train, y_train)"
   ]
  },
  {
   "cell_type": "code",
   "execution_count": 27,
   "metadata": {},
   "outputs": [
    {
     "name": "stdout",
     "output_type": "stream",
     "text": [
      "Score on Testing Data!!!!!\n"
     ]
    },
    {
     "data": {
      "text/plain": [
       "0.859"
      ]
     },
     "execution_count": 27,
     "metadata": {},
     "output_type": "execute_result"
    }
   ],
   "source": [
    "print(\"Score on Testing Data!!!!!\")\n",
    "y_pred = clf.predict(x_test)\n",
    "clf.score(x_test, y_test)"
   ]
  },
  {
   "cell_type": "code",
   "execution_count": 28,
   "metadata": {},
   "outputs": [
    {
     "name": "stdout",
     "output_type": "stream",
     "text": [
      "                          precision    recall  f1-score   support\n",
      "\n",
      "             alt.atheism       0.75      0.76      0.76       242\n",
      "           comp.graphics       0.90      0.73      0.80       261\n",
      " comp.os.ms-windows.misc       0.73      0.89      0.81       270\n",
      "comp.sys.ibm.pc.hardware       0.76      0.88      0.81       232\n",
      "   comp.sys.mac.hardware       0.86      0.90      0.88       268\n",
      "          comp.windows.x       0.92      0.69      0.79       260\n",
      "            misc.forsale       0.76      0.95      0.84       255\n",
      "               rec.autos       0.88      0.89      0.88       231\n",
      "         rec.motorcycles       0.90      0.94      0.92       239\n",
      "      rec.sport.baseball       0.97      0.94      0.95       231\n",
      "        rec.sport.hockey       0.94      0.96      0.95       258\n",
      "               sci.crypt       0.98      0.95      0.97       236\n",
      "         sci.electronics       0.87      0.88      0.87       270\n",
      "                 sci.med       0.95      0.90      0.93       247\n",
      "               sci.space       0.95      0.93      0.94       260\n",
      "  soc.religion.christian       0.94      1.00      0.97       221\n",
      "      talk.politics.guns       0.82      0.89      0.85       253\n",
      "   talk.politics.mideast       0.94      0.85      0.89       253\n",
      "      talk.politics.misc       0.83      0.67      0.74       259\n",
      "      talk.religion.misc       0.65      0.63      0.64       254\n",
      "\n",
      "                accuracy                           0.86      5000\n",
      "               macro avg       0.86      0.86      0.86      5000\n",
      "            weighted avg       0.86      0.86      0.86      5000\n",
      "\n"
     ]
    }
   ],
   "source": [
    "## Printing Classification Report\n",
    "print(classification_report(y_test, y_pred))"
   ]
  },
  {
   "cell_type": "code",
   "execution_count": 29,
   "metadata": {},
   "outputs": [
    {
     "name": "stdout",
     "output_type": "stream",
     "text": [
      "[[185   0   0   0   1   0   3   1   3   0   1   1   0   2   0   2   0   3\n",
      "    1  39]\n",
      " [  0 190  20  19  11   8   9   2   0   0   0   0   1   0   1   0   0   0\n",
      "    0   0]\n",
      " [  0   2 241  13   1   6   5   0   0   0   0   0   1   1   0   0   0   0\n",
      "    0   0]\n",
      " [  0   1   6 203  15   1   2   0   0   0   0   0   4   0   0   0   0   0\n",
      "    0   0]\n",
      " [  0   1   2  14 242   0   6   0   0   0   0   0   3   0   0   0   0   0\n",
      "    0   0]\n",
      " [  0   8  56   8   4 180   1   0   0   0   0   0   2   1   0   0   0   0\n",
      "    0   0]\n",
      " [  0   0   0   2   1   0 241   6   0   0   1   0   3   0   1   0   0   0\n",
      "    0   0]\n",
      " [  0   0   0   0   1   0  10 206   9   0   1   0   4   0   0   0   0   0\n",
      "    0   0]\n",
      " [  0   0   0   0   0   0  10   3 225   0   0   0   1   0   0   0   0   0\n",
      "    0   0]\n",
      " [  0   0   0   0   0   0   3   1   1 217   8   0   0   0   1   0   0   0\n",
      "    0   0]\n",
      " [  0   0   0   0   0   0   1   0   2   6 247   0   0   0   1   0   0   0\n",
      "    1   0]\n",
      " [  0   0   1   1   0   1   0   0   0   0   0 225   5   1   0   0   2   0\n",
      "    0   0]\n",
      " [  0   2   0   7   2   0   6   8   0   0   0   2 238   3   2   0   0   0\n",
      "    0   0]\n",
      " [  0   4   0   1   2   0   5   4   3   0   1   0   5 222   0   0   0   0\n",
      "    0   0]\n",
      " [  1   4   1   0   1   0   0   1   1   1   1   1   6   0 241   0   0   0\n",
      "    0   1]\n",
      " [  0   0   0   0   0   0   0   0   0   0   0   0   1   0   0 220   0   0\n",
      "    0   0]\n",
      " [  0   0   0   0   0   0   1   0   5   0   0   0   0   0   0   0 224   0\n",
      "   14   9]\n",
      " [  3   0   1   0   0   0   7   3   1   0   2   0   0   0   1   0   4 216\n",
      "   10   5]\n",
      " [  1   0   0   0   0   0   2   0   0   0   1   0   0   2   4   0  34  11\n",
      "  173  31]\n",
      " [ 57   0   0   0   0   0   5   0   0   0   0   0   0   1   1  11   9   1\n",
      "   10 159]]\n"
     ]
    }
   ],
   "source": [
    "## Printing Confusion Matrix\n",
    "print(confusion_matrix(y_test, y_pred))"
   ]
  },
  {
   "cell_type": "markdown",
   "metadata": {},
   "source": [
    "### 11) Self Implemented Naive Bayes"
   ]
  },
  {
   "cell_type": "code",
   "execution_count": 38,
   "metadata": {},
   "outputs": [],
   "source": [
    "#Making dictionary for implementing Naive Baye's\n",
    "def fit(x_train_dataset, y_train):\n",
    "    count = {}\n",
    "    total_word = 0\n",
    "    y_train = np.array(y_train)\n",
    "    count[\"total_doc\"] = len(y_train)\n",
    "    classes = set(y_train)\n",
    "    for i in classes:\n",
    "        temp = 0\n",
    "        x_train_with_i = x_train_dataset[y_train == i]\n",
    "        temp2 = x_train_with_i.shape[0]\n",
    "        count[i] = {}\n",
    "        \n",
    "        for feature in features:\n",
    "            l = (x_train_with_i[ : , features[feature]]).sum()\n",
    "            count[i][feature] = l\n",
    "            temp += l\n",
    "            \n",
    "        count[i][\"word_in_class\"] = temp\n",
    "        count[i][\"length\"] = temp2\n",
    "    return count"
   ]
  },
  {
   "cell_type": "code",
   "execution_count": 39,
   "metadata": {},
   "outputs": [],
   "source": [
    "def probability(x_test, dic, classes):\n",
    "    prob = np.log(dic[classes][\"length\"]) - np.log(dic[\"total_doc\"])\n",
    "    feature = list(dic[classes].keys())\n",
    "    for j in range (len(feature) - 2):\n",
    "        xj = x_test[j]\n",
    "        if xj == 0:\n",
    "            current_prob=0\n",
    "        else:\n",
    "            num = dic[classes][feature[j]] + 1\n",
    "            den = dic[classes][\"word_in_class\"] + len(dic[classes].keys()) - 2\n",
    "            current_prob = np.log(num) - np.log(den)\n",
    "        prob += current_prob\n",
    "    return prob    "
   ]
  },
  {
   "cell_type": "code",
   "execution_count": 40,
   "metadata": {},
   "outputs": [],
   "source": [
    "#Best_class or probable answer will be returned from here\n",
    "def predict_for_single(x_test,dic):\n",
    "    first_run = True\n",
    "    classes = dic.keys()\n",
    "    for i in classes:\n",
    "        if i == \"total_doc\":\n",
    "            continue\n",
    "        prob = probability(x_test, dic, i)\n",
    "        if first_run or prob > best_prob:\n",
    "            best_prob = prob\n",
    "            first_run = False\n",
    "            best_class = i\n",
    "    return best_class"
   ]
  },
  {
   "cell_type": "code",
   "execution_count": 41,
   "metadata": {},
   "outputs": [],
   "source": [
    "def predict_(x_test, dic):\n",
    "    y_pred = []\n",
    "    for x in x_test:\n",
    "        y_pred.append(predict_for_single(x, dic))\n",
    "    return y_pred"
   ]
  },
  {
   "cell_type": "code",
   "execution_count": 42,
   "metadata": {},
   "outputs": [],
   "source": [
    "def score(y_test, y_pred):\n",
    "        count = 0\n",
    "        for i in range(len(y_pred)):\n",
    "            if y_pred[i] == y_test[i]:\n",
    "                count += 1\n",
    "        return count / len(y_pred)"
   ]
  },
  {
   "cell_type": "code",
   "execution_count": 43,
   "metadata": {},
   "outputs": [
    {
     "name": "stdout",
     "output_type": "stream",
     "text": [
      "Score on testing_data: 0.8716\n",
      "[[196   0   0   0   0   0   1   1   4   0   0   1   0   1   0   1   0   2\n",
      "    3  32]\n",
      " [  1 203  14  21   6   4   8   0   0   0   0   0   2   2   0   0   0   0\n",
      "    0   0]\n",
      " [  0   8 241  13   0   3   4   0   0   0   0   0   0   0   0   0   0   0\n",
      "    1   0]\n",
      " [  0   1   2 211  11   0   4   0   0   0   0   0   3   0   0   0   0   0\n",
      "    0   0]\n",
      " [  0   0   2  17 245   0   3   0   0   0   0   0   0   1   0   0   0   0\n",
      "    0   0]\n",
      " [  0  12  51   6   2 186   1   0   0   0   0   0   0   2   0   0   0   0\n",
      "    0   0]\n",
      " [  0   0   1   1   1   0 244   3   0   0   0   0   3   1   1   0   0   0\n",
      "    0   0]\n",
      " [  0   0   0   0   0   0   9 211   4   0   0   0   4   0   0   0   2   0\n",
      "    1   0]\n",
      " [  0   0   0   0   0   0   8   5 225   0   0   0   0   0   1   0   0   0\n",
      "    0   0]\n",
      " [  0   0   0   0   0   0   2   0   0 221   8   0   0   0   0   0   0   0\n",
      "    0   0]\n",
      " [  0   0   0   0   0   0   1   0   2   2 252   0   0   0   0   0   0   0\n",
      "    1   0]\n",
      " [  1   1   0   0   0   0   0   0   0   0   0 221   8   2   0   0   2   0\n",
      "    1   0]\n",
      " [  0   2   0   4   1   0   2   3   0   0   0   1 254   1   2   0   0   0\n",
      "    0   0]\n",
      " [  1   4   0   0   0   0   1   2   2   0   1   0   7 229   0   0   0   0\n",
      "    0   0]\n",
      " [  0   6   0   0   1   0   2   1   0   0   0   0   7   1 238   0   0   0\n",
      "    2   2]\n",
      " [  0   0   0   0   0   0   0   0   0   0   0   0   1   0   0 220   0   0\n",
      "    0   0]\n",
      " [  0   0   0   0   0   0   1   1   1   0   0   0   0   0   0   0 229   0\n",
      "   16   5]\n",
      " [  0   0   1   0   0   0   4   0   5   0   0   0   0   0   1   0   3 222\n",
      "   14   3]\n",
      " [  0   0   0   0   0   0   3   0   0   0   0   0   0   1   6   0  38  12\n",
      "  172  27]\n",
      " [ 70   0   0   0   0   0   3   0   0   0   0   0   1   0   1   7  10   1\n",
      "   23 138]]\n",
      "                          precision    recall  f1-score   support\n",
      "\n",
      "             alt.atheism       0.73      0.81      0.77       242\n",
      "           comp.graphics       0.86      0.78      0.82       261\n",
      " comp.os.ms-windows.misc       0.77      0.89      0.83       270\n",
      "comp.sys.ibm.pc.hardware       0.77      0.91      0.84       232\n",
      "   comp.sys.mac.hardware       0.92      0.91      0.92       268\n",
      "          comp.windows.x       0.96      0.72      0.82       260\n",
      "            misc.forsale       0.81      0.96      0.88       255\n",
      "               rec.autos       0.93      0.91      0.92       231\n",
      "         rec.motorcycles       0.93      0.94      0.93       239\n",
      "      rec.sport.baseball       0.99      0.96      0.97       231\n",
      "        rec.sport.hockey       0.97      0.98      0.97       258\n",
      "               sci.crypt       0.99      0.94      0.96       236\n",
      "         sci.electronics       0.88      0.94      0.91       270\n",
      "                 sci.med       0.95      0.93      0.94       247\n",
      "               sci.space       0.95      0.92      0.93       260\n",
      "  soc.religion.christian       0.96      1.00      0.98       221\n",
      "      talk.politics.guns       0.81      0.91      0.85       253\n",
      "   talk.politics.mideast       0.94      0.88      0.91       253\n",
      "      talk.politics.misc       0.74      0.66      0.70       259\n",
      "      talk.religion.misc       0.67      0.54      0.60       254\n",
      "\n",
      "                accuracy                           0.87      5000\n",
      "               macro avg       0.88      0.87      0.87      5000\n",
      "            weighted avg       0.87      0.87      0.87      5000\n",
      "\n"
     ]
    }
   ],
   "source": [
    "#run\n",
    "dictionary = fit(x_train, y_train)\n",
    "y_pred = predict_(x_test, dictionary)\n",
    "print(\"Score on testing_data:\", score(y_test, y_pred))\n",
    "print(confusion_matrix(y_test, y_pred))\n",
    "print(classification_report(y_test, y_pred))"
   ]
  }
 ],
 "metadata": {
  "kernelspec": {
   "display_name": "Python 3",
   "language": "python",
   "name": "python3"
  },
  "language_info": {
   "codemirror_mode": {
    "name": "ipython",
    "version": 3
   },
   "file_extension": ".py",
   "mimetype": "text/x-python",
   "name": "python",
   "nbconvert_exporter": "python",
   "pygments_lexer": "ipython3",
   "version": "3.7.6"
  }
 },
 "nbformat": 4,
 "nbformat_minor": 2
}
